{
 "cells": [
  {
   "cell_type": "code",
   "execution_count": 1,
   "metadata": {
    "executionInfo": {
     "elapsed": 712,
     "status": "ok",
     "timestamp": 1721027722576,
     "user": {
      "displayName": "nitya Manvi",
      "userId": "13656473176658699709"
     },
     "user_tz": -330
    },
    "id": "YcYt03fK-2VC"
   },
   "outputs": [],
   "source": [
    "import random\n",
    "import smtplib\n",
    "from email.message import EmailMessage"
   ]
  },
  {
   "cell_type": "code",
   "execution_count": 3,
   "metadata": {
    "colab": {
     "base_uri": "https://localhost:8080/"
    },
    "executionInfo": {
     "elapsed": 488,
     "status": "ok",
     "timestamp": 1721027725547,
     "user": {
      "displayName": "nitya Manvi",
      "userId": "13656473176658699709"
     },
     "user_tz": -330
    },
    "id": "NG9NPzqz_Eck",
    "outputId": "f73e87ab-95a5-403f-84e1-765ba75fa749"
   },
   "outputs": [
    {
     "name": "stdout",
     "output_type": "stream",
     "text": [
      "OTP:  221307\n"
     ]
    }
   ],
   "source": [
    "generate_otp = random.randint(0,999999)\n",
    "print(\"OTP: \",generate_otp)"
   ]
  },
  {
   "cell_type": "code",
   "execution_count": 5,
   "metadata": {
    "colab": {
     "base_uri": "https://localhost:8080/"
    },
    "executionInfo": {
     "elapsed": 461,
     "status": "ok",
     "timestamp": 1721027728127,
     "user": {
      "displayName": "nitya Manvi",
      "userId": "13656473176658699709"
     },
     "user_tz": -330
    },
    "id": "eccL-O8x_c4s",
    "outputId": "4d1d1bba-9e8b-4822-ffc2-23047cd9c226"
   },
   "outputs": [
    {
     "data": {
      "text/plain": [
       "(220, b'2.0.0 Ready to start TLS')"
      ]
     },
     "execution_count": 5,
     "metadata": {},
     "output_type": "execute_result"
    }
   ],
   "source": [
    "server =smtplib.SMTP('smtp.gmail.com',587)\n",
    "server.starttls()"
   ]
  },
  {
   "cell_type": "code",
   "execution_count": null,
   "metadata": {
    "colab": {
     "base_uri": "https://localhost:8080/"
    },
    "executionInfo": {
     "elapsed": 13207,
     "status": "ok",
     "timestamp": 1721027743576,
     "user": {
      "displayName": "nitya Manvi",
      "userId": "13656473176658699709"
     },
     "user_tz": -330
    },
    "id": "3cqfhjE2_u_3",
    "outputId": "cefccca4-c975-45b1-e77d-983d9048383c"
   },
   "outputs": [],
   "source": [
    "server.login('Nityasree.1621@gmail.com', 'hvch lola tmxg eymm')\n",
    "to_mail=input(\"Enter your email: \")"
   ]
  },
  {
   "cell_type": "code",
   "execution_count": 7,
   "metadata": {
    "colab": {
     "base_uri": "https://localhost:8080/"
    },
    "collapsed": true,
    "executionInfo": {
     "elapsed": 1150,
     "status": "ok",
     "timestamp": 1721027750297,
     "user": {
      "displayName": "nitya Manvi",
      "userId": "13656473176658699709"
     },
     "user_tz": -330
    },
    "id": "py_tf-xWJi6Y",
    "jupyter": {
     "outputs_hidden": true
    },
    "outputId": "80b49f3e-5f0c-44c8-c46d-99b1919eb56c"
   },
   "outputs": [
    {
     "name": "stdout",
     "output_type": "stream",
     "text": [
      "OTP sent successfully\n"
     ]
    }
   ],
   "source": [
    "msg=EmailMessage()\n",
    "msg['Subject'] = 'OTP(One time password)'\n",
    "msg['From'] = 'Nityasree.1621@gmail.com'\n",
    "msg['To'] = to_mail\n",
    "msg.set_content('OTP: '+str(generate_otp))\n",
    "server.send_message(msg)\n",
    "print('OTP sent successfully')"
   ]
  },
  {
   "cell_type": "code",
   "execution_count": 9,
   "metadata": {
    "colab": {
     "base_uri": "https://localhost:8080/"
    },
    "collapsed": true,
    "executionInfo": {
     "elapsed": 9544,
     "status": "ok",
     "timestamp": 1721027809538,
     "user": {
      "displayName": "nitya Manvi",
      "userId": "13656473176658699709"
     },
     "user_tz": -330
    },
    "id": "_AACcTpTKHzQ",
    "jupyter": {
     "outputs_hidden": true
    },
    "outputId": "01b98e09-897f-4f35-b225-b7082e920106"
   },
   "outputs": [
    {
     "name": "stdout",
     "output_type": "stream",
     "text": [
      "Password: 397863\n",
      "Login successfull\n"
     ]
    }
   ],
   "source": [
    "password=int(input(\"Password: \"))\n",
    "if password==generate_otp:\n",
    "    print(\"Login successful\")\n",
    "else:\n",
    "    print(\"Invalid Otp, Please try again\")"
   ]
  }
 ],
 "metadata": {
  "colab": {
   "authorship_tag": "ABX9TyNGY/7HEKmSC+5ahpChVcXD",
   "provenance": [
    {
     "file_id": "1hTf8Hfekn630YKEMeNci7N8rFvzkRLm5",
     "timestamp": 1720875846975
    }
   ],
   "toc_visible": true
  },
  "kernelspec": {
   "display_name": "Python 3 (ipykernel)",
   "language": "python",
   "name": "python3"
  },
  "language_info": {
   "codemirror_mode": {
    "name": "ipython",
    "version": 3
   },
   "file_extension": ".py",
   "mimetype": "text/x-python",
   "name": "python",
   "nbconvert_exporter": "python",
   "pygments_lexer": "ipython3",
   "version": "3.12.4"
  }
 },
 "nbformat": 4,
 "nbformat_minor": 4
}
